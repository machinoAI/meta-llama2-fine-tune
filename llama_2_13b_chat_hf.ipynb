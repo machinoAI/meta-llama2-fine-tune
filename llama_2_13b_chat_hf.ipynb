{
 "cells": [
  {
   "cell_type": "code",
   "execution_count": 23,
   "id": "0162494a-6d56-449d-ba10-9825d9045fdd",
   "metadata": {
    "tags": []
   },
   "outputs": [],
   "source": [
    "import pandas as pd\n",
    "import torch\n",
    "from datasets import load_dataset\n",
    "from torch import cuda, bfloat16\n",
    "import transformers\n",
    "from peft import LoraConfig, get_peft_model, prepare_model_for_int8_training\n",
    "from transformers import AutoModelForCausalLM, AutoTokenizer, TrainingArguments\n",
    "from trl import SFTTrainer\n",
    "from torch.optim import AdamW"
   ]
  },
  {
   "cell_type": "code",
   "execution_count": 2,
   "id": "9b7ccadf-e8df-486c-b0a1-bd3b48725fa7",
   "metadata": {
    "tags": []
   },
   "outputs": [],
   "source": [
    "## read your datasets here: Example; Download alpaca or dolly2.0 datasets from github\n",
    "datasets = \"/home/ubuntu/projects/ravi/Llama2/datasets/\""
   ]
  },
  {
   "cell_type": "code",
   "execution_count": 21,
   "id": "e832e68e-af00-426e-98c5-003906a63d1d",
   "metadata": {
    "tags": []
   },
   "outputs": [
    {
     "name": "stdout",
     "output_type": "stream",
     "text": [
      "Downloading and preparing dataset csv/datasets to /home/ubuntu/.cache/huggingface/datasets/csv/datasets-a155d0aece92945d/0.0.0/6954658bab30a358235fa864b05cf819af0e179325c740e4bc853bcc7ec513e1...\n"
     ]
    },
    {
     "data": {
      "application/vnd.jupyter.widget-view+json": {
       "model_id": "f03650e084a64e2e92541392eccdfd93",
       "version_major": 2,
       "version_minor": 0
      },
      "text/plain": [
       "Downloading data files:   0%|          | 0/1 [00:00<?, ?it/s]"
      ]
     },
     "metadata": {},
     "output_type": "display_data"
    },
    {
     "data": {
      "application/vnd.jupyter.widget-view+json": {
       "model_id": "6f19638c09ff4f4182195434ac8433df",
       "version_major": 2,
       "version_minor": 0
      },
      "text/plain": [
       "Extracting data files:   0%|          | 0/1 [00:00<?, ?it/s]"
      ]
     },
     "metadata": {},
     "output_type": "display_data"
    },
    {
     "data": {
      "application/vnd.jupyter.widget-view+json": {
       "model_id": "594f691d3ea44d2f9833943c8b56bd37",
       "version_major": 2,
       "version_minor": 0
      },
      "text/plain": [
       "Generating train split: 0 examples [00:00, ? examples/s]"
      ]
     },
     "metadata": {},
     "output_type": "display_data"
    },
    {
     "name": "stdout",
     "output_type": "stream",
     "text": [
      "Dataset csv downloaded and prepared to /home/ubuntu/.cache/huggingface/datasets/csv/datasets-a155d0aece92945d/0.0.0/6954658bab30a358235fa864b05cf819af0e179325c740e4bc853bcc7ec513e1. Subsequent calls will reuse this data.\n"
     ]
    }
   ],
   "source": [
    "train_dataset = load_dataset(datasets, split = \"train\")"
   ]
  },
  {
   "cell_type": "code",
   "execution_count": 1,
   "id": "c3961f38-fa56-40d8-b726-107b0db9d343",
   "metadata": {
    "tags": []
   },
   "outputs": [],
   "source": [
    "## To get the access of these models you need to request from hugging face it takes just few minutes to get it approved.: Try your hugging face emailid only \n",
    "## to request on meta site:\n",
    "%%time\n",
    "model_id = 'meta-llama/Llama-2-13b-chat-hf'\n",
    "hf_auth = '<your hugging face API token>'\n",
    "\n",
    "device = f'cuda:{cuda.current_device()}' if cuda.is_available() else 'cpu'\n",
    "\n",
    "# set quantization configuration to load large model with less GPU memory\n",
    "# this requires the `bitsandbytes` library\n",
    "bnb_config = transformers.BitsAndBytesConfig(\n",
    "    load_in_4bit=True,\n",
    "    bnb_4bit_quant_type='nf4',\n",
    "    bnb_4bit_use_double_quant=True,\n",
    "    bnb_4bit_compute_dtype=bfloat16\n",
    ")\n",
    "\n",
    "# begin initializing HF items, need auth token for these\n",
    "\n",
    "model_config = transformers.AutoConfig.from_pretrained(\n",
    "    model_id,\n",
    "    use_auth_token=hf_auth\n",
    ")\n",
    "\n",
    "model = transformers.AutoModelForCausalLM.from_pretrained(\n",
    "    model_id,\n",
    "    trust_remote_code=True,\n",
    "    config=model_config,\n",
    "    quantization_config=bnb_config,\n",
    "    device_map='auto',\n",
    "    use_auth_token=hf_auth\n",
    ")\n",
    "model.eval()\n",
    "print(f\"Model loaded on {device}\")"
   ]
  },
  {
   "cell_type": "code",
   "execution_count": null,
   "id": "31860b2f-9fba-43e4-b4ea-001ed21f55db",
   "metadata": {
    "tags": []
   },
   "outputs": [],
   "source": [
    "%%time\n",
    "## Initializing the tokenizer for `llama-2-13b-chat-hf` model:\n",
    "tokenizer = transformers.AutoTokenizer.from_pretrained(\n",
    "    model_id,\n",
    "    use_auth_token=hf_auth\n",
    ")\n",
    "tokenizer.pad_token=tokenizer.eos_token\n",
    "model.resize_token_embeddings(len(tokenizer))"
   ]
  },
  {
   "cell_type": "code",
   "execution_count": null,
   "id": "97bcc5c0-e154-4a5b-a1a0-cd13cb316d95",
   "metadata": {
    "tags": []
   },
   "outputs": [],
   "source": [
    "%%time\n",
    "## impliment peft:\n",
    "model = prepare_model_for_int8_training(model)\n",
    "peft_config = LoraConfig(r=8, lora_alpha =32, lora_dropout=0.05, bias=\"none\", task_type =\"CAUSAL_LM\")\n",
    "model = get_peft_model(model, peft_config)\n",
    "\n",
    "training_args = TrainingArguments(\n",
    "    output_dir = \"meta-llama-2-13b-chat-hf\",\n",
    "    per_device_train_batch_size = 4,\n",
    "    optim = 'adamw_torch',\n",
    "    logging_steps = 100,\n",
    "    learning_rate=2e-4,\n",
    "    fp16 =True,\n",
    "    warmup_ratio=0.1,\n",
    "    lr_scheduler_type=\"linear\",\n",
    "    num_train_epochs=100,\n",
    "    save_strategy =\"epoch\",\n",
    ")\n",
    "\n",
    "trainer = SFTTrainer(\n",
    "    model=model,\n",
    "    train_dataset = train_dataset,\n",
    "    dataset_text_field=\"text\",\n",
    "    tokenizer= tokenizer,\n",
    "    max_seq_length=1024,\n",
    "    args = training_args,\n",
    "    packing =True,\n",
    "    peft_config = peft_config\n",
    ")\n",
    "\n",
    "for name, module in trainer.model.named_modules():\n",
    "    if \"norm\" in name:\n",
    "        module = module.to(torch.float32)\n",
    "        \n",
    "trainer.train()"
   ]
  },
  {
   "cell_type": "code",
   "execution_count": null,
   "id": "8c4c5431-5604-4faa-9c8e-6161e1a2bf7e",
   "metadata": {},
   "outputs": [],
   "source": [
    "lora_config = LoraConfig.from_pretrained('./meta-llama-2-13b-chat-h/checkpoint-1300')\n",
    "model = get_peft_model(model, lora_config)"
   ]
  },
  {
   "cell_type": "code",
   "execution_count": null,
   "id": "43a9a3bc-511a-461c-8b6a-d88f9daf6722",
   "metadata": {},
   "outputs": [],
   "source": [
    "%%time \n",
    "text =\" <Ask your questions here:>\"\n",
    "device = \"cuda:0\"\n",
    "\n",
    "prompt_text = \" <Write your prompt here'>: \" + text\n",
    "\n",
    "inputs = tokenizer(prompt_text, return_tensors=\"pt\").to(device)\n",
    "outputs = model.generate(**inputs, max_length=300) \n",
    "print(tokenizer.decode(outputs[0], skip_special_tokens=True))"
   ]
  }
 ],
 "metadata": {
  "kernelspec": {
   "display_name": "Python [conda env:txllm]",
   "language": "python",
   "name": "conda-env-txllm-py"
  },
  "language_info": {
   "codemirror_mode": {
    "name": "ipython",
    "version": 3
   },
   "file_extension": ".py",
   "mimetype": "text/x-python",
   "name": "python",
   "nbconvert_exporter": "python",
   "pygments_lexer": "ipython3",
   "version": "3.11.3"
  }
 },
 "nbformat": 4,
 "nbformat_minor": 5
}
